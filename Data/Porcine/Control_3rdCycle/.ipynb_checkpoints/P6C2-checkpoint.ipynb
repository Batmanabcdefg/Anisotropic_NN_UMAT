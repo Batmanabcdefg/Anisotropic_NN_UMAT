{
 "cells": [
  {
   "cell_type": "code",
   "execution_count": 1,
   "metadata": {},
   "outputs": [],
   "source": [
    "#Import packages \n",
    "import autograd.numpy as np\n",
    "from autograd import jacobian\n",
    "from numpy import genfromtxt\n",
    "import scipy\n",
    "from matplotlib import pyplot as plt\n",
    "import pandas as pd\n",
    "from scipy.optimize import Bounds\n",
    "import matplotlib\n",
    "matplotlib.rcParams['text.usetex'] = True\n",
    "matplotlib.rc('font',family ='serif',size=12)\n",
    "from palettable.colorbrewer.sequential import Blues_8\n",
    "colors = Blues_8.mpl_colormap(np.linspace(0,6))\n"
   ]
  },
  {
   "cell_type": "markdown",
   "metadata": {},
   "source": [
    "# GOH\n",
    "Gasser et al 2006(https://doi.org/10.1098/rsif.2005.0073)\n",
    "\n",
    "\n",
    "Incompressible material assumption\n",
    "$$\\Psi_1(J) = p(1-J)$$\n",
    "$$\\Psi_2(\\mathbf{C}) = \\frac{\\mu}{2}(I_1 -3) +\\frac{k_1}{2k_2}[e^{(k_2[\\kappa I_1 + (1-3\\kappa)I_4-1]^2)}-1]$$\n",
    "Here $I_4 = \\mathbf{C}:\\mathbf{M} =\\mathbf{C}:  \\mathbf{a}_0\\otimes \\mathbf{a}_0$\n",
    "\n",
    "Let $\\mathbf{H} =\\kappa I_1 + (1-3\\kappa)I_4$ and $\\mathbf{E} = [\\mathbf{H}-1]$\n",
    "\n",
    "$$\\mathbf{S}_1  = 2\\frac{\\partial \\Psi_{1}}{\\partial \\mathbf{C}} = -pC^{-1} $$\n",
    "$$\\mathbf{S}_2  =  2\\frac{\\partial \\Psi_{2}}{\\partial \\mathbf{C}} = \\mu \\mathbf{I} + 2k_1 e^{k_2\\mathbf{E}^2}\\mathbf{E}[\\kappa \\mathbf{I}+(1-3\\kappa)\\mathbf{M}]$$\n",
    "\n",
    "Total PK2 stress\n",
    "\n",
    "$$\\mathbf{S} = -p\\mathbf{C}^{-1} +  \\mu\\mathbf{I} + 2k_1 e^{k_2\\mathbf{E}^2}\\mathbf{E}[\\kappa \\mathbf{I}+(1-3\\kappa)\\mathbf{M}]$$\n",
    "\n",
    "Total PK1 stress\n",
    "\n",
    "$$\\mathbf{P} = \\mathbf{F}\\mathbf{S}$$"
   ]
  },
  {
   "cell_type": "code",
   "execution_count": 2,
   "metadata": {},
   "outputs": [],
   "source": [
    "def evalP(par,lam1,lam2):\n",
    "    mu = par[0]\n",
    "    k1 = par[1]\n",
    "    k2 = par[2]\n",
    "    kappa = par[3]\n",
    "    alpha = par[4]\n",
    "    \n",
    "    #Structure tensor\n",
    "    a0 = np.array([np.cos(alpha),np.sin(alpha),0])\n",
    "    M = np.outer(a0,a0)\n",
    "    \n",
    "    #Kinematics\n",
    "    lam3 = 1/(lam1*lam2)\n",
    "    F = np.array([[(lam1) ,0., 0],[0.,(lam2), 0] ,[0., 0,(lam3)]])\n",
    "#     C = np.array([[lam1 ,0, 0],[0,lam2, 0] ,[0, 0, lam3]])\n",
    "    C = F.T*F\n",
    "    invF = np.linalg.inv(F)\n",
    "    invC = np.linalg.inv(C)\n",
    "    I = np.eye(3)\n",
    "    \n",
    "    #Invariants\n",
    "    I1 = np.trace(C)\n",
    "    I4 = np.tensordot(C,M)\n",
    "    \n",
    "    \n",
    "    #Evaluate stress\n",
    "    H = kappa*I1+(1-3*kappa)*I4\n",
    "    E = H-1\n",
    "    S2 = mu*I+2*k1*np.exp(k2*E**2)*E*(kappa*I+(1-3*kappa)*M)\n",
    "    p = S2[2,2]/invC[2,2] #Get pressure  by equating S_33=0\n",
    "    S = -p*invC+S2\n",
    "    \n",
    "#     print(p)\n",
    "    \n",
    "    P =  F*S\n",
    "    return P"
   ]
  },
  {
   "cell_type": "markdown",
   "metadata": {},
   "source": [
    "# Import all relevant data and form data frames\n",
    "\n",
    "Visualize data here to insepct. Correct the files before proceeding to fitting"
   ]
  },
  {
   "cell_type": "code",
   "execution_count": 4,
   "metadata": {},
   "outputs": [],
   "source": [
    "path =\"../Stress_Stretch_Control/\"\n",
    "Exp = \"P6C2\"\n",
    "A_Offx = path+Exp+\"S1_OffX.csv\"\n",
    "A_Offy = path+Exp+\"S2_OffY.csv\"\n",
    "A_Equi = path+Exp+\"S2_Equibiaxial.csv\""
   ]
  },
  {
   "cell_type": "code",
   "execution_count": 5,
   "metadata": {},
   "outputs": [],
   "source": [
    "AX = genfromtxt(A_Offx,delimiter=',')\n",
    "AY = genfromtxt(A_Offy,delimiter=',')\n",
    "AE = genfromtxt(A_Equi,delimiter=',')\n",
    "A = np.vstack([AX,AY,AE])"
   ]
  },
  {
   "cell_type": "code",
   "execution_count": 6,
   "metadata": {},
   "outputs": [
    {
     "data": {
      "image/png": "[encoded data removed]",
      "text/plain": [
       "<Figure size 720x216 with 3 Axes>"
      ]
     },
     "metadata": {
      "needs_background": "light"
     },
     "output_type": "display_data"
    }
   ],
   "source": [
    "fig,ax = plt.subplots(1,3,figsize=(10,3),sharey=True)\n",
    "ax[0].plot(AX[:,0],AX[:,1])\n",
    "ax[0].plot(AX[:,2],AX[:,3])\n",
    "ax[0].set_title(\"Offx\")\n",
    "ax[1].plot(AY[:,0],AY[:,1])\n",
    "ax[1].plot(AY[:,2],AY[:,3])\n",
    "ax[1].set_title(\"Offy\")\n",
    "ax[2].plot(AE[:,0],AE[:,1])\n",
    "ax[2].plot(AE[:,2],AE[:,3])\n",
    "ax[2].set_title(\"Equi\")\n",
    "plt.show()"
   ]
  },
  {
   "cell_type": "markdown",
   "metadata": {},
   "source": [
    "## Objective function for fitting "
   ]
  },
  {
   "cell_type": "code",
   "execution_count": 10,
   "metadata": {},
   "outputs": [],
   "source": [
    "def ObjA(par):  \n",
    "    err = 0.0 \n",
    "    lam1 = A[:,0]\n",
    "    lam2 = A[:,2]\n",
    "    PE1 = A[:,1]\n",
    "    PE2 = A[:,3]\n",
    "    #Evaluate the stress and calculate error\n",
    "    for i in range(0,len(lam1)):\n",
    "        P = evalP(par,lam1[i],lam2[i])\n",
    "        err += (P[0,0]-PE1[i])**2+ (P[1,1]-PE2[i])**2/len(lam1)  \n",
    "    return np.sqrt(err)/len(lam1)\n",
    "jacA = jacobian(ObjA) # Jacobian of the objctive function using Autograd\n",
    "\n",
    "\n",
    "par = [1,1,1,0.2,np.pi/3] #Intial guess for the optimizer\n",
    "bounds = Bounds([0.0,0.0,0.0,0.,-np.pi/2],[10.,10.,1000.,1/3,np.pi/2] ) #Bounds on parameters"
   ]
  },
  {
   "cell_type": "markdown",
   "metadata": {},
   "source": [
    "### Run the optimizer and inspect the results"
   ]
  },
  {
   "cell_type": "code",
   "execution_count": 11,
   "metadata": {},
   "outputs": [
    {
     "name": "stdout",
     "output_type": "stream",
     "text": [
      "Optim for A  [0.         1.34717596 1.01351499 0.33333333 1.30795177]\n"
     ]
    }
   ],
   "source": [
    "optA = scipy.optimize.minimize(ObjA,par,jac=jacA,bounds = bounds)\n",
    "print(\"Optim for A \",optA.x)"
   ]
  },
  {
   "cell_type": "markdown",
   "metadata": {},
   "source": [
    "#### Plot"
   ]
  },
  {
   "cell_type": "code",
   "execution_count": 12,
   "metadata": {},
   "outputs": [
    {
     "data": {
      "image/png": "[encoded data removed]",
      "text/plain": [
       "<Figure size 720x216 with 3 Axes>"
      ]
     },
     "metadata": {
      "needs_background": "light"
     },
     "output_type": "display_data"
    }
   ],
   "source": [
    "fig,ax = plt.subplots(1,3,figsize=(10,3),sharey=True)\n",
    "\n",
    "lam1_1 = AX[:,0]\n",
    "lam1_2 = AX[:,2]\n",
    "PE1_1 = AX[:,1]\n",
    "PE1_2 = AX[:,3]\n",
    "Parr1 = np.zeros([len(lam1_1),2])\n",
    "for i in range(0,len(lam1_1)):\n",
    "        P = evalP(optA.x,lam1_1[i],lam1_2[i])\n",
    "        Parr1[i,0] = P[0,0]\n",
    "        Parr1[i,1] = P[1,1]\n",
    "\n",
    "        \n",
    "lam2_1 = AY[:,0]\n",
    "lam2_2 = AY[:,2]\n",
    "PE2_1 = AY[:,1]\n",
    "PE2_2 = AY[:,3]\n",
    "Parr2 = np.zeros([len(lam2_1),2])\n",
    "for i in range(0,len(lam2_1)):\n",
    "        P = evalP(optA.x,lam2_1[i],lam2_2[i])\n",
    "        Parr2[i,0] = P[0,0]\n",
    "        Parr2[i,1] = P[1,1]\n",
    "\n",
    "lam3_1 = AE[:,0]\n",
    "lam3_2 = AE[:,2]\n",
    "PE3_1 = AE[:,1]\n",
    "PE3_2 = AE[:,3]\n",
    "Parr3 = np.zeros([len(lam3_1),2])\n",
    "for i in range(0,len(lam3_1)):\n",
    "        P = evalP(optA.x,lam3_1[i],lam3_2[i])\n",
    "        Parr3[i,0] = P[0,0]\n",
    "        Parr3[i,1] = P[1,1]\n",
    "        \n",
    "ax[0].plot(lam1_1,PE1_1,color='r',label=r'$\\mathbf{e}_1$')       \n",
    "ax[0].plot(lam1_1,Parr1[:,0],'--',color='r')\n",
    "ax[0].plot(lam1_2,PE1_2,color='b',label=r'$\\mathbf{e}_2$')       \n",
    "ax[0].plot(lam1_2,Parr1[:,1],'--',color='b') \n",
    "ax[0].set_title(\"OffX\")\n",
    "ax[0].set_xlabel(r'Stretch $\\lambda$')\n",
    "ax[0].set_ylabel(r'Nominal Stress $P$[MPa]')\n",
    "ax[0].legend()\n",
    "\n",
    "ax[1].plot(lam2_1,PE2_1,color='r',label=r'$\\mathbf{e}_1$')       \n",
    "ax[1].plot(lam2_1,Parr2[:,0],'--',color='r')\n",
    "ax[1].plot(lam2_2,PE2_2,color='b',label=r'$\\mathbf{e}_2$')       \n",
    "ax[1].plot(lam2_2,Parr2[:,1],'--',color='b')  \n",
    "ax[1].set_title(\"OffY\")\n",
    "ax[1].set_xlabel(r'Stretch $\\lambda$')\n",
    "ax[1].set_ylabel(r'Nominal Stress $P$[MPa]')\n",
    "\n",
    "\n",
    "ax[2].plot(lam3_1,PE3_1,color='r',label=r'$\\mathbf{e}_1$')       \n",
    "ax[2].plot(lam3_1,Parr3[:,0],'--',color='r')\n",
    "ax[2].plot(lam3_2,PE3_2,color='b',label=r'$\\mathbf{e}_2$')       \n",
    "ax[2].plot(lam3_2,Parr3[:,1],'--',color='b')  \n",
    "ax[2].set_title(\"Equi\")\n",
    "ax[2].set_xlabel(r'Stretch $\\lambda$')\n",
    "ax[2].set_ylabel(r'Nominal Stress $P$[MPa]')\n",
    "\n",
    "plt.tight_layout()\n",
    "plt.savefig(\"Img/\"+Exp+\".png\",dpi=300)\n",
    "plt.show()\n"
   ]
  },
  {
   "cell_type": "code",
   "execution_count": null,
   "metadata": {},
   "outputs": [],
   "source": []
  }
 ],
 "metadata": {
  "kernelspec": {
   "display_name": "Python 3",
   "language": "python",
   "name": "python3"
  },
  "language_info": {
   "codemirror_mode": {
    "name": "ipython",
    "version": 3
   },
   "file_extension": ".py",
   "mimetype": "text/x-python",
   "name": "python",
   "nbconvert_exporter": "python",
   "pygments_lexer": "ipython3",
   "version": "3.7.6"
  }
 },
 "nbformat": 4,
 "nbformat_minor": 4
}
