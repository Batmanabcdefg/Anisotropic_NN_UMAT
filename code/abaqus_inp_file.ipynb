{
 "cells": [
  {
   "cell_type": "code",
   "execution_count": 1,
   "metadata": {},
   "outputs": [],
   "source": [
    "import tensorflow as tf\n",
    "import numpy as np\n",
    "import pickle"
   ]
  },
  {
   "cell_type": "code",
   "execution_count": 2,
   "metadata": {},
   "outputs": [],
   "source": [
    "model_name = 'P1C1_xys'\n",
    "n_input = 4\n",
    "activtypes = [1,1,1,2] #1:sigmoid, 2:linear\n",
    "Kvol = 1 #Kvol = 1 is the best value for Porcine data\n",
    "theta = 0\n",
    "a0 = np.array([ np.cos(theta), np.sin(theta), 0])\n",
    "s0 = np.array([-np.sin(theta), np.cos(theta), 0])"
   ]
  },
  {
   "cell_type": "code",
   "execution_count": 3,
   "metadata": {},
   "outputs": [],
   "source": [
    "with open('savednet/' + model_name + '_factors.pkl','rb') as f:\n",
    "    norm_factors = pickle.load(f)\n",
    "meanPsi, stdPsi = norm_factors['meanPsi'], norm_factors['stdPsi']\n",
    "meanI1, stdI1   = norm_factors['meanI1'],  norm_factors['stdI1']\n",
    "meanI2, stdI2   = norm_factors['meanI2'],  norm_factors['stdI2']\n",
    "meanI4a, stdI4a = norm_factors['meanI4a'], norm_factors['stdI4a']\n",
    "meanI4s, stdI4s = norm_factors['meanI4s'], norm_factors['stdI4s']\n",
    "norm_const = np.array([meanI1, stdI1, meanI2, stdI2, meanI4a, stdI4a, meanI4s, stdI4s, meanPsi, stdPsi])\n",
    "norm_const = norm_const.astype('float32')"
   ]
  },
  {
   "cell_type": "code",
   "execution_count": 4,
   "metadata": {},
   "outputs": [],
   "source": [
    "model_fname   = 'savednet/'+model_name+'.json'\n",
    "weights_fname = 'savednet/'+model_name+'_weights.h5'\n",
    "model = tf.keras.models.model_from_json(open(model_fname).read())\n",
    "model.load_weights(weights_fname)\n",
    "A = model.get_weights()\n",
    "weights = A[::2]\n",
    "biases = A[1::2]\n",
    "n_layers = len(weights) + 1 #Including the input layer\n",
    "n_neuronsperlayer = [n_input] + [b.shape[0] for b in biases]\n",
    "\n",
    "weights_flat = []\n",
    "for weight in weights:\n",
    "    weights_flat.append(weight.flatten())\n",
    "weights_flat = np.hstack(weights_flat)\n",
    "\n",
    "biases_flat = []\n",
    "for bias in biases:\n",
    "    biases_flat.append(bias.flatten())\n",
    "biases_flat = np.hstack(biases_flat)\n",
    "\n",
    "n_weights = weights_flat.shape[0]\n",
    "n_biases = biases_flat.shape[0]\n"
   ]
  },
  {
   "cell_type": "code",
   "execution_count": 5,
   "metadata": {},
   "outputs": [],
   "source": [
    "meta = np.array([n_layers, n_input, n_weights, n_biases])\n",
    "printables = np.hstack([meta, n_neuronsperlayer, norm_const, weights_flat, biases_flat, activtypes, Kvol, a0, s0])\n",
    "constants = printables.shape[0]\n",
    "nrows = int(np.ceil(constants/8.0))"
   ]
  },
  {
   "cell_type": "code",
   "execution_count": 6,
   "metadata": {},
   "outputs": [],
   "source": [
    "np.set_printoptions(linewidth=200)\n",
    "with open('add_to_inp_file.txt', 'w') as f:\n",
    "    f.write('*User Material, constants=' + str(constants)+'\\n')\n",
    "    for i in range(nrows):\n",
    "        i1 = i*8\n",
    "        i2 = i1 + 8\n",
    "        string = np.array2string(printables[i1:i2],separator=',')\n",
    "        string = string[1:-1] #To remove the brackets\n",
    "        f.write(string+'\\n')"
   ]
  },
  {
   "cell_type": "code",
   "execution_count": null,
   "metadata": {},
   "outputs": [],
   "source": []
  }
 ],
 "metadata": {
  "interpreter": {
   "hash": "c4b90d2646fa585a0fc990151a90e3d23da1e1f619025991bae0a348b1a2cf13"
  },
  "kernelspec": {
   "display_name": "Python 3.8.13 ('tf')",
   "language": "python",
   "name": "python3"
  },
  "language_info": {
   "codemirror_mode": {
    "name": "ipython",
    "version": 3
   },
   "file_extension": ".py",
   "mimetype": "text/x-python",
   "name": "python",
   "nbconvert_exporter": "python",
   "pygments_lexer": "ipython3",
   "version": "3.8.13"
  },
  "orig_nbformat": 4
 },
 "nbformat": 4,
 "nbformat_minor": 2
}
