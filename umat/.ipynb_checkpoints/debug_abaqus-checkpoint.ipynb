{
 "cells": [
  {
   "cell_type": "code",
   "execution_count": 1,
   "id": "d8c1358a-5247-41fb-be92-2b18a0b3e171",
   "metadata": {},
   "outputs": [],
   "source": [
    "# Debug Abaqus"
   ]
  },
  {
   "cell_type": "code",
   "execution_count": 17,
   "id": "2d151485-9540-416e-bd9c-4978d1f6a575",
   "metadata": {},
   "outputs": [
    {
     "ename": "FileNotFoundError",
     "evalue": "[Errno 2] No such file or directory: 'savednet/S111S1_xys.json'",
     "output_type": "error",
     "traceback": [
      "\u001b[0;31m---------------------------------------------------------------------------\u001b[0m",
      "\u001b[0;31mFileNotFoundError\u001b[0m                         Traceback (most recent call last)",
      "Input \u001b[0;32mIn [17]\u001b[0m, in \u001b[0;36m<cell line: 9>\u001b[0;34m()\u001b[0m\n\u001b[1;32m      7\u001b[0m model_fname   \u001b[38;5;241m=\u001b[39m \u001b[38;5;124m'\u001b[39m\u001b[38;5;124msavednet/\u001b[39m\u001b[38;5;124m'\u001b[39m\u001b[38;5;241m+\u001b[39mmodel_name\u001b[38;5;241m+\u001b[39m\u001b[38;5;124m'\u001b[39m\u001b[38;5;124m.json\u001b[39m\u001b[38;5;124m'\u001b[39m\n\u001b[1;32m      8\u001b[0m weights_fname \u001b[38;5;241m=\u001b[39m \u001b[38;5;124m'\u001b[39m\u001b[38;5;124msavednet/\u001b[39m\u001b[38;5;124m'\u001b[39m\u001b[38;5;241m+\u001b[39mmodel_name\u001b[38;5;241m+\u001b[39m\u001b[38;5;124m'\u001b[39m\u001b[38;5;124m_weights.h5\u001b[39m\u001b[38;5;124m'\u001b[39m\n\u001b[0;32m----> 9\u001b[0m model \u001b[38;5;241m=\u001b[39m tf\u001b[38;5;241m.\u001b[39mkeras\u001b[38;5;241m.\u001b[39mmodels\u001b[38;5;241m.\u001b[39mmodel_from_json(\u001b[38;5;28;43mopen\u001b[39;49m\u001b[43m(\u001b[49m\u001b[43mmodel_fname\u001b[49m\u001b[43m)\u001b[49m\u001b[38;5;241m.\u001b[39mread())\n\u001b[1;32m     10\u001b[0m model\u001b[38;5;241m.\u001b[39mload_weights(weights_fname)\n\u001b[1;32m     11\u001b[0m ndata, I1, I2, I4a, I4s, Psi_gt, X, Y, sigma_gt, F, C, C_inv  \u001b[38;5;241m=\u001b[39m preprocessing(dataset_name)\n",
      "\u001b[0;31mFileNotFoundError\u001b[0m: [Errno 2] No such file or directory: 'savednet/S111S1_xys.json'"
     ]
    }
   ],
   "source": [
    "import numpy as np\n",
    "import tensorflow as tf\n",
    "from misc import preprocessing, normalization\n",
    "\n",
    "dataset_name = 'S111S1_xys'\n",
    "model_name = 'S111S1_xys'\n",
    "model_fname   = 'savednet/'+model_name+'.json'\n",
    "weights_fname = 'savednet/'+model_name+'_weights.h5'\n",
    "model = tf.keras.models.model_from_json(open(model_fname).read())\n",
    "model.load_weights(weights_fname)\n",
    "ndata, I1, I2, I4a, I4s, Psi_gt, X, Y, sigma_gt, F, C, C_inv  = preprocessing(dataset_name)\n",
    "meanPsi, meanI1, meanI2, meanI4a, meanI4s, stdPsi, stdI1, stdI2, stdI4a, stdI4s = normalization(True, model_name, Psi_gt, I1, I2, I4a, I4s)"
   ]
  },
  {
   "cell_type": "code",
   "execution_count": 7,
   "id": "91daa996-bc9e-4dac-af7b-bd6177ac34a7",
   "metadata": {},
   "outputs": [],
   "source": [
    "dfgrd1 = np.array([[1,0,0],[0,1,0],[0,0,1]])\n",
    "F = dfgrd1"
   ]
  },
  {
   "cell_type": "code",
   "execution_count": 11,
   "id": "7d431127-dea1-4a16-8e57-77f190397a9a",
   "metadata": {},
   "outputs": [],
   "source": [
    "a0 = np.array([1,0,0])\n",
    "s0 = np.array([0,1,0])"
   ]
  },
  {
   "cell_type": "code",
   "execution_count": 10,
   "id": "c33eb0c5-b8e6-4cd7-b714-442664d70170",
   "metadata": {},
   "outputs": [],
   "source": [
    "J = np.linalg.det(F)\n",
    "C = np.matmul(F.transpose(),F)\n",
    "Chat = J**(-2/3)*C\n",
    "detC = np.linalg.det(C)\n",
    "Cinv = np.linalg.inv(C)\n",
    "Fhat = J**(-1/3)*F\n",
    "Chat2 = np.matmul(Chat,Chat)\n",
    "trChat2 = Chat2[0,0]+Chat[1,1]+Chat[2,2]\n",
    "\n",
    "I1hat = Chat[0,0]+Chat[1,1]+Chat[2,2]\n",
    "I2hat = 1/2*(I1hat**2-trChat2)\n",
    "I4ahat = np.matmul(Chat, np.outer(a0,a0))\n",
    "I4shat = np.matmul(Chat, np.outer(s0,s0))\n",
    "\n",
    "NN_inputs = "
   ]
  },
  {
   "cell_type": "code",
   "execution_count": null,
   "id": "fad901bb-e754-4f05-9e2f-65bd8443cbf4",
   "metadata": {},
   "outputs": [],
   "source": []
  }
 ],
 "metadata": {
  "kernelspec": {
   "display_name": "tf",
   "language": "python",
   "name": "tf"
  },
  "language_info": {
   "codemirror_mode": {
    "name": "ipython",
    "version": 3
   },
   "file_extension": ".py",
   "mimetype": "text/x-python",
   "name": "python",
   "nbconvert_exporter": "python",
   "pygments_lexer": "ipython3",
   "version": "3.8.13"
  }
 },
 "nbformat": 4,
 "nbformat_minor": 5
}
